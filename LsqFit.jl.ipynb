{
 "cells": [
  {
   "cell_type": "code",
   "execution_count": 4,
   "metadata": {
    "collapsed": true
   },
   "outputs": [],
   "source": [
    "using LsqFit, Plots"
   ]
  },
  {
   "cell_type": "code",
   "execution_count": 2,
   "metadata": {
    "collapsed": false
   },
   "outputs": [
    {
     "data": {
      "text/plain": [
       "model (generic function with 1 method)"
      ]
     },
     "execution_count": 2,
     "metadata": {},
     "output_type": "execute_result"
    }
   ],
   "source": [
    "function model(x, p)\n",
    "    @. p[1]*x + p[2]*x^2\n",
    "end"
   ]
  },
  {
   "cell_type": "code",
   "execution_count": 7,
   "metadata": {
    "collapsed": false
   },
   "outputs": [
    {
     "data": {
      "text/plain": [
       "2-element Array{Float64,1}:\n",
       " 0.3\n",
       " 0.7"
      ]
     },
     "execution_count": 7,
     "metadata": {},
     "output_type": "execute_result"
    }
   ],
   "source": [
    "p = [0.3, 0.7]"
   ]
  },
  {
   "cell_type": "code",
   "execution_count": 8,
   "metadata": {
    "collapsed": false
   },
   "outputs": [
    {
     "data": {
      "text/plain": [
       "0.0:0.0707070707070707:7.0"
      ]
     },
     "execution_count": 8,
     "metadata": {},
     "output_type": "execute_result"
    }
   ],
   "source": [
    "xdata = linspace(0,7, 100)"
   ]
  },
  {
   "cell_type": "code",
   "execution_count": 14,
   "metadata": {
    "collapsed": false
   },
   "outputs": [
    {
     "data": {
      "text/plain": [
       "100-element Array{Float64,1}:\n",
       " -0.760661 \n",
       "  0.149607 \n",
       "  2.18008  \n",
       " -1.24793  \n",
       " -2.21764  \n",
       "  1.3572   \n",
       "  0.0669139\n",
       "  0.504617 \n",
       "  1.40271  \n",
       "  1.67648  \n",
       "  1.01149  \n",
       "  2.98789  \n",
       "  1.7381   \n",
       "  ⋮        \n",
       " 29.1481   \n",
       " 28.9255   \n",
       " 31.6733   \n",
       " 31.5754   \n",
       " 30.8645   \n",
       " 31.6106   \n",
       " 32.7452   \n",
       " 33.2586   \n",
       " 33.7212   \n",
       " 34.9998   \n",
       " 35.2837   \n",
       " 36.9132   "
      ]
     },
     "execution_count": 14,
     "metadata": {},
     "output_type": "execute_result"
    }
   ],
   "source": [
    "ydata = model(xdata, p) .+ randn(length(xdata))"
   ]
  },
  {
   "cell_type": "code",
   "execution_count": 27,
   "metadata": {
    "collapsed": false
   },
   "outputs": [
    {
     "data": {
      "text/plain": [
       "LsqFit.LsqFitResult{Float64,1}(98, [0.353588, 0.690854], [0.811625, 0.716934, 1.46633, -0.0282863, -1.67863, 1.09297, 1.20485, -1.74235, 0.969927, -1.17248  …  0.196127, 0.361854, 0.386961, 0.141399, -0.595318, -0.618332, 0.39517, -0.66361, -0.711242, -0.456393], [-3.0 9.0; -2.89899 8.40414; … ; 6.89899 47.5961; 7.0 49.0], true, Float64[])"
      ]
     },
     "execution_count": 27,
     "metadata": {},
     "output_type": "execute_result"
    }
   ],
   "source": [
    "res = curve_fit(model, xdata, ydata, rand(2))"
   ]
  },
  {
   "cell_type": "code",
   "execution_count": 28,
   "metadata": {
    "collapsed": false
   },
   "outputs": [
    {
     "data": {
      "text/html": [
       "<?xml version=\"1.0\" encoding=\"utf-8\"?>\n",
       "<svg xmlns=\"http://www.w3.org/2000/svg\" xmlns:xlink=\"http://www.w3.org/1999/xlink\" width=\"600\" height=\"400\" viewBox=\"0 0 600 400\">\n",
       "<defs>\n",
       "  <clipPath id=\"clip3600\">\n",
       "    <rect x=\"0\" y=\"0\" width=\"600\" height=\"400\"/>\n",
       "  </clipPath>\n",
       "</defs>\n",
       "<polygon clip-path=\"url(#clip3600)\" points=\"\n",
       "0,400 600,400 600,0 0,0 \n",
       "  \" fill=\"#ffffff\" fill-opacity=\"1\"/>\n",
       "<defs>\n",
       "  <clipPath id=\"clip3601\">\n",
       "    <rect x=\"120\" y=\"0\" width=\"421\" height=\"400\"/>\n",
       "  </clipPath>\n",
       "</defs>\n",
       "<polygon clip-path=\"url(#clip3600)\" points=\"\n",
       "29.1292,375.869 580.315,375.869 580.315,11.811 29.1292,11.811 \n",
       "  \" fill=\"#ffffff\" fill-opacity=\"1\"/>\n",
       "<defs>\n",
       "  <clipPath id=\"clip3602\">\n",
       "    <rect x=\"29\" y=\"11\" width=\"552\" height=\"365\"/>\n",
       "  </clipPath>\n",
       "</defs>\n",
       "<polyline clip-path=\"url(#clip3602)\" style=\"stroke:#000000; stroke-width:0.5; stroke-opacity:0.1; fill:none\" points=\"\n",
       "  84.2478,375.869 84.2478,11.811 \n",
       "  \"/>\n",
       "<polyline clip-path=\"url(#clip3602)\" style=\"stroke:#000000; stroke-width:0.5; stroke-opacity:0.1; fill:none\" points=\"\n",
       "  194.485,375.869 194.485,11.811 \n",
       "  \"/>\n",
       "<polyline clip-path=\"url(#clip3602)\" style=\"stroke:#000000; stroke-width:0.5; stroke-opacity:0.1; fill:none\" points=\"\n",
       "  304.722,375.869 304.722,11.811 \n",
       "  \"/>\n",
       "<polyline clip-path=\"url(#clip3602)\" style=\"stroke:#000000; stroke-width:0.5; stroke-opacity:0.1; fill:none\" points=\"\n",
       "  414.959,375.869 414.959,11.811 \n",
       "  \"/>\n",
       "<polyline clip-path=\"url(#clip3602)\" style=\"stroke:#000000; stroke-width:0.5; stroke-opacity:0.1; fill:none\" points=\"\n",
       "  525.196,375.869 525.196,11.811 \n",
       "  \"/>\n",
       "<polyline clip-path=\"url(#clip3602)\" style=\"stroke:#000000; stroke-width:0.5; stroke-opacity:0.1; fill:none\" points=\"\n",
       "  29.1292,363.918 580.315,363.918 \n",
       "  \"/>\n",
       "<polyline clip-path=\"url(#clip3602)\" style=\"stroke:#000000; stroke-width:0.5; stroke-opacity:0.1; fill:none\" points=\"\n",
       "  29.1292,268.193 580.315,268.193 \n",
       "  \"/>\n",
       "<polyline clip-path=\"url(#clip3602)\" style=\"stroke:#000000; stroke-width:0.5; stroke-opacity:0.1; fill:none\" points=\"\n",
       "  29.1292,172.469 580.315,172.469 \n",
       "  \"/>\n",
       "<polyline clip-path=\"url(#clip3602)\" style=\"stroke:#000000; stroke-width:0.5; stroke-opacity:0.1; fill:none\" points=\"\n",
       "  29.1292,76.7443 580.315,76.7443 \n",
       "  \"/>\n",
       "<polyline clip-path=\"url(#clip3600)\" style=\"stroke:#000000; stroke-width:1; stroke-opacity:1; fill:none\" points=\"\n",
       "  29.1292,375.869 580.315,375.869 \n",
       "  \"/>\n",
       "<polyline clip-path=\"url(#clip3600)\" style=\"stroke:#000000; stroke-width:1; stroke-opacity:1; fill:none\" points=\"\n",
       "  29.1292,375.869 29.1292,11.811 \n",
       "  \"/>\n",
       "<polyline clip-path=\"url(#clip3600)\" style=\"stroke:#000000; stroke-width:1; stroke-opacity:1; fill:none\" points=\"\n",
       "  84.2478,375.869 84.2478,370.408 \n",
       "  \"/>\n",
       "<polyline clip-path=\"url(#clip3600)\" style=\"stroke:#000000; stroke-width:1; stroke-opacity:1; fill:none\" points=\"\n",
       "  194.485,375.869 194.485,370.408 \n",
       "  \"/>\n",
       "<polyline clip-path=\"url(#clip3600)\" style=\"stroke:#000000; stroke-width:1; stroke-opacity:1; fill:none\" points=\"\n",
       "  304.722,375.869 304.722,370.408 \n",
       "  \"/>\n",
       "<polyline clip-path=\"url(#clip3600)\" style=\"stroke:#000000; stroke-width:1; stroke-opacity:1; fill:none\" points=\"\n",
       "  414.959,375.869 414.959,370.408 \n",
       "  \"/>\n",
       "<polyline clip-path=\"url(#clip3600)\" style=\"stroke:#000000; stroke-width:1; stroke-opacity:1; fill:none\" points=\"\n",
       "  525.196,375.869 525.196,370.408 \n",
       "  \"/>\n",
       "<polyline clip-path=\"url(#clip3600)\" style=\"stroke:#000000; stroke-width:1; stroke-opacity:1; fill:none\" points=\"\n",
       "  29.1292,363.918 37.397,363.918 \n",
       "  \"/>\n",
       "<polyline clip-path=\"url(#clip3600)\" style=\"stroke:#000000; stroke-width:1; stroke-opacity:1; fill:none\" points=\"\n",
       "  29.1292,268.193 37.397,268.193 \n",
       "  \"/>\n",
       "<polyline clip-path=\"url(#clip3600)\" style=\"stroke:#000000; stroke-width:1; stroke-opacity:1; fill:none\" points=\"\n",
       "  29.1292,172.469 37.397,172.469 \n",
       "  \"/>\n",
       "<polyline clip-path=\"url(#clip3600)\" style=\"stroke:#000000; stroke-width:1; stroke-opacity:1; fill:none\" points=\"\n",
       "  29.1292,76.7443 37.397,76.7443 \n",
       "  \"/>\n",
       "<g clip-path=\"url(#clip3600)\">\n",
       "<text style=\"fill:#000000; fill-opacity:1; font-family:Arial,Helvetica Neue,Helvetica,sans-serif; font-size:12; text-anchor:middle;\" transform=\"rotate(0, 84.2478, 389.669)\" x=\"84.2478\" y=\"389.669\">-2</text>\n",
       "</g>\n",
       "<g clip-path=\"url(#clip3600)\">\n",
       "<text style=\"fill:#000000; fill-opacity:1; font-family:Arial,Helvetica Neue,Helvetica,sans-serif; font-size:12; text-anchor:middle;\" transform=\"rotate(0, 194.485, 389.669)\" x=\"194.485\" y=\"389.669\">0</text>\n",
       "</g>\n",
       "<g clip-path=\"url(#clip3600)\">\n",
       "<text style=\"fill:#000000; fill-opacity:1; font-family:Arial,Helvetica Neue,Helvetica,sans-serif; font-size:12; text-anchor:middle;\" transform=\"rotate(0, 304.722, 389.669)\" x=\"304.722\" y=\"389.669\">2</text>\n",
       "</g>\n",
       "<g clip-path=\"url(#clip3600)\">\n",
       "<text style=\"fill:#000000; fill-opacity:1; font-family:Arial,Helvetica Neue,Helvetica,sans-serif; font-size:12; text-anchor:middle;\" transform=\"rotate(0, 414.959, 389.669)\" x=\"414.959\" y=\"389.669\">4</text>\n",
       "</g>\n",
       "<g clip-path=\"url(#clip3600)\">\n",
       "<text style=\"fill:#000000; fill-opacity:1; font-family:Arial,Helvetica Neue,Helvetica,sans-serif; font-size:12; text-anchor:middle;\" transform=\"rotate(0, 525.196, 389.669)\" x=\"525.196\" y=\"389.669\">6</text>\n",
       "</g>\n",
       "<g clip-path=\"url(#clip3600)\">\n",
       "<text style=\"fill:#000000; fill-opacity:1; font-family:Arial,Helvetica Neue,Helvetica,sans-serif; font-size:12; text-anchor:end;\" transform=\"rotate(0, 23.1292, 368.418)\" x=\"23.1292\" y=\"368.418\">0</text>\n",
       "</g>\n",
       "<g clip-path=\"url(#clip3600)\">\n",
       "<text style=\"fill:#000000; fill-opacity:1; font-family:Arial,Helvetica Neue,Helvetica,sans-serif; font-size:12; text-anchor:end;\" transform=\"rotate(0, 23.1292, 272.693)\" x=\"23.1292\" y=\"272.693\">10</text>\n",
       "</g>\n",
       "<g clip-path=\"url(#clip3600)\">\n",
       "<text style=\"fill:#000000; fill-opacity:1; font-family:Arial,Helvetica Neue,Helvetica,sans-serif; font-size:12; text-anchor:end;\" transform=\"rotate(0, 23.1292, 176.969)\" x=\"23.1292\" y=\"176.969\">20</text>\n",
       "</g>\n",
       "<g clip-path=\"url(#clip3600)\">\n",
       "<text style=\"fill:#000000; fill-opacity:1; font-family:Arial,Helvetica Neue,Helvetica,sans-serif; font-size:12; text-anchor:end;\" transform=\"rotate(0, 23.1292, 81.2443)\" x=\"23.1292\" y=\"81.2443\">30</text>\n",
       "</g>\n",
       "<polyline clip-path=\"url(#clip3602)\" style=\"stroke:#009af9; stroke-width:1; stroke-opacity:1; fill:none\" points=\"\n",
       "  29.1292,322.323 34.6967,325.015 40.2643,335.652 45.8318,324.674 51.3993,312.07 56.9669,341.66 62.5344,345.655 68.1019,320.231 73.6695,348.849 79.237,330.86 \n",
       "  84.8045,348.362 90.3721,332.183 95.9396,348.228 101.507,341.115 107.075,355.98 112.642,369.716 118.21,345.743 123.777,342.241 129.345,371.714 134.912,358.399 \n",
       "  140.48,371.343 146.047,360.906 151.615,361.44 157.182,365.189 162.75,362.868 168.318,361.523 173.885,352.334 179.453,359.868 185.02,364.084 190.588,367.754 \n",
       "  196.155,358.394 201.723,365.127 207.29,357.357 212.858,346.811 218.425,364.738 223.993,346.514 229.56,375.869 235.128,360.412 240.695,337.252 246.263,374.941 \n",
       "  251.831,351.784 257.398,350.079 262.966,357.035 268.533,342.364 274.101,353.867 279.668,355.229 285.236,353.744 290.803,339.029 296.371,341.2 301.938,303.216 \n",
       "  307.506,324.351 313.073,333.077 318.641,313.751 324.208,321.361 329.776,314.425 335.344,302.6 340.911,316.71 346.479,317.493 352.046,308.968 357.614,305.075 \n",
       "  363.181,287.22 368.749,280.333 374.316,292.229 379.884,281.143 385.451,268.833 391.019,252.039 396.586,264.407 402.154,257.791 407.721,252.88 413.289,248.407 \n",
       "  418.857,225.91 424.424,247.87 429.992,241.19 435.559,221.558 441.127,199.962 446.694,201.783 452.262,205.328 457.829,207.892 463.397,173.543 468.964,188.785 \n",
       "  474.532,170.442 480.099,169.465 485.667,162.599 491.234,165.652 496.802,166.711 502.369,139.629 507.937,116.811 513.505,127.799 519.072,111.127 524.64,115.487 \n",
       "  530.207,99.8364 535.775,92.8761 541.342,84.4347 546.91,73.2674 552.477,57.2635 558.045,47.9567 563.612,48.4368 569.18,28.9452 574.747,18.9979 580.315,11.811 \n",
       "  \n",
       "  \"/>\n",
       "<polyline clip-path=\"url(#clip3602)\" style=\"stroke:#e26f46; stroke-width:1; stroke-opacity:1; fill:none\" points=\"\n",
       "  29.1292,314.554 34.6967,318.152 40.2643,321.616 45.8318,324.945 51.3993,328.138 56.9669,331.197 62.5344,334.121 68.1019,336.91 73.6695,339.564 79.237,342.083 \n",
       "  84.8045,344.467 90.3721,346.716 95.9396,348.83 101.507,350.81 107.075,352.654 112.642,354.363 118.21,355.938 123.777,357.377 129.345,358.682 134.912,359.851 \n",
       "  140.48,360.886 146.047,361.785 151.615,362.55 157.182,363.18 162.75,363.675 168.318,364.034 173.885,364.259 179.453,364.349 185.02,364.304 190.588,364.124 \n",
       "  196.155,363.809 201.723,363.36 207.29,362.775 212.858,362.055 218.425,361.2 223.993,360.211 229.56,359.086 235.128,357.827 240.695,356.432 246.263,354.903 \n",
       "  251.831,353.238 257.398,351.439 262.966,349.505 268.533,347.435 274.101,345.231 279.668,342.892 285.236,340.418 290.803,337.809 296.371,335.065 301.938,332.186 \n",
       "  307.506,329.172 313.073,326.023 318.641,322.74 324.208,319.321 329.776,315.767 335.344,312.079 340.911,308.255 346.479,304.296 352.046,300.203 357.614,295.975 \n",
       "  363.181,291.611 368.749,287.113 374.316,282.48 379.884,277.711 385.451,272.808 391.019,267.77 396.586,262.597 402.154,257.289 407.721,251.846 413.289,246.268 \n",
       "  418.857,240.555 424.424,234.708 429.992,228.725 435.559,222.607 441.127,216.354 446.694,209.967 452.262,203.444 457.829,196.787 463.397,189.994 468.964,183.067 \n",
       "  474.532,176.005 480.099,168.807 485.667,161.475 491.234,154.008 496.802,146.406 502.369,138.669 507.937,130.797 513.505,122.79 519.072,114.648 524.64,106.371 \n",
       "  530.207,97.959 535.775,89.4122 541.342,80.7305 546.91,71.9138 552.477,62.9622 558.045,53.8756 563.612,44.6541 569.18,35.2976 574.747,25.8062 580.315,16.1798 \n",
       "  \n",
       "  \"/>\n",
       "<polygon clip-path=\"url(#clip3600)\" points=\"\n",
       "489.608,78.051 562.315,78.051 562.315,32.691 489.608,32.691 \n",
       "  \" fill=\"#ffffff\" fill-opacity=\"1\"/>\n",
       "<polyline clip-path=\"url(#clip3600)\" style=\"stroke:#000000; stroke-width:1; stroke-opacity:1; fill:none\" points=\"\n",
       "  489.608,78.051 562.315,78.051 562.315,32.691 489.608,32.691 489.608,78.051 \n",
       "  \"/>\n",
       "<polyline clip-path=\"url(#clip3600)\" style=\"stroke:#009af9; stroke-width:1; stroke-opacity:1; fill:none\" points=\"\n",
       "  495.608,47.811 531.608,47.811 \n",
       "  \"/>\n",
       "<g clip-path=\"url(#clip3600)\">\n",
       "<text style=\"fill:#000000; fill-opacity:1; font-family:Arial,Helvetica Neue,Helvetica,sans-serif; font-size:12; text-anchor:start;\" transform=\"rotate(0, 537.608, 52.311)\" x=\"537.608\" y=\"52.311\">y1</text>\n",
       "</g>\n",
       "<polyline clip-path=\"url(#clip3600)\" style=\"stroke:#e26f46; stroke-width:1; stroke-opacity:1; fill:none\" points=\"\n",
       "  495.608,62.931 531.608,62.931 \n",
       "  \"/>\n",
       "<g clip-path=\"url(#clip3600)\">\n",
       "<text style=\"fill:#000000; fill-opacity:1; font-family:Arial,Helvetica Neue,Helvetica,sans-serif; font-size:12; text-anchor:start;\" transform=\"rotate(0, 537.608, 67.431)\" x=\"537.608\" y=\"67.431\">y2</text>\n",
       "</g>\n",
       "</svg>\n"
      ]
     },
     "execution_count": 28,
     "metadata": {},
     "output_type": "execute_result"
    }
   ],
   "source": [
    "plot(xdata, ydata)\n",
    "plot!(xdata, x->model(x, res.param))"
   ]
  },
  {
   "cell_type": "markdown",
   "metadata": {},
   "source": [
    "# Example 2\n",
    "\n",
    "$$\n",
    "f(x) = 2.0*exp(1.0*x)\n",
    "$$"
   ]
  },
  {
   "cell_type": "code",
   "execution_count": 93,
   "metadata": {
    "collapsed": false
   },
   "outputs": [
    {
     "data": {
      "text/plain": [
       "3-element Array{Float64,1}:\n",
       " 0.3\n",
       " 0.7\n",
       " 4.0"
      ]
     },
     "execution_count": 93,
     "metadata": {},
     "output_type": "execute_result"
    }
   ],
   "source": [
    "function exp_model(x, p)\n",
    "    @. p[1]*exp(p[2]*x)+p[3]\n",
    "end\n",
    "p_exp = [0.3, 0.7, 4.0]"
   ]
  },
  {
   "cell_type": "code",
   "execution_count": 111,
   "metadata": {
    "collapsed": false
   },
   "outputs": [
    {
     "data": {
      "text/plain": [
       "13-element Array{Float64,1}:\n",
       " -0.850976\n",
       "  0.129046\n",
       "  3.54279 \n",
       "  3.41155 \n",
       " -1.29599 \n",
       "  4.9625  \n",
       " -1.90817 \n",
       " -1.97431 \n",
       "  3.57701 \n",
       " -2.14805 \n",
       "  2.58432 \n",
       " -1.00839 \n",
       "  4.44306 "
      ]
     },
     "execution_count": 111,
     "metadata": {},
     "output_type": "execute_result"
    }
   ],
   "source": [
    "xdata = rand(13).*10.-3"
   ]
  },
  {
   "cell_type": "code",
   "execution_count": 112,
   "metadata": {
    "collapsed": false
   },
   "outputs": [
    {
     "data": {
      "text/plain": [
       "13-element Array{Float64,1}:\n",
       "  6.36245 \n",
       "  3.52297 \n",
       "  4.89511 \n",
       "  7.4737  \n",
       "  0.918198\n",
       "  9.34322 \n",
       "  5.84102 \n",
       "  0.805985\n",
       "  5.61277 \n",
       "  7.15376 \n",
       "  3.83924 \n",
       "  0.910529\n",
       " 14.8759  "
      ]
     },
     "execution_count": 112,
     "metadata": {},
     "output_type": "execute_result"
    }
   ],
   "source": [
    "ydata = exp_model(xdata, p_exp) .+ randn(length(xdata)).*3"
   ]
  },
  {
   "cell_type": "code",
   "execution_count": 113,
   "metadata": {
    "collapsed": false
   },
   "outputs": [
    {
     "data": {
      "text/plain": [
       "LsqFit.LsqFitResult{Float64,1}(10, [0.353575, 0.642991, 3.35203], [-2.80585, 0.213229, 1.90675, -0.951013, 2.5875, 2.60385, -2.38532, 2.64539, 1.26582, -3.71288, 1.3755, 2.62638, -5.36935], [0.578585 -0.174087 1.0; 1.08651 0.0495748 1.0; … ; 0.52289 -0.186432 1.0; 17.4065 27.3448 1.0], true, Float64[])"
      ]
     },
     "execution_count": 113,
     "metadata": {},
     "output_type": "execute_result"
    }
   ],
   "source": [
    "res = curve_fit(exp_model, xdata, ydata, rand(3))"
   ]
  },
  {
   "cell_type": "code",
   "execution_count": 114,
   "metadata": {
    "collapsed": false,
    "scrolled": true
   },
   "outputs": [
    {
     "data": {
      "text/html": [
       "<?xml version=\"1.0\" encoding=\"utf-8\"?>\n",
       "<svg xmlns=\"http://www.w3.org/2000/svg\" xmlns:xlink=\"http://www.w3.org/1999/xlink\" width=\"600\" height=\"400\" viewBox=\"0 0 600 400\">\n",
       "<defs>\n",
       "  <clipPath id=\"clip0600\">\n",
       "    <rect x=\"0\" y=\"0\" width=\"600\" height=\"400\"/>\n",
       "  </clipPath>\n",
       "</defs>\n",
       "<polygon clip-path=\"url(#clip0600)\" points=\"\n",
       "0,400 600,400 600,0 0,0 \n",
       "  \" fill=\"#ffffff\" fill-opacity=\"1\"/>\n",
       "<defs>\n",
       "  <clipPath id=\"clip0601\">\n",
       "    <rect x=\"120\" y=\"0\" width=\"421\" height=\"400\"/>\n",
       "  </clipPath>\n",
       "</defs>\n",
       "<polygon clip-path=\"url(#clip0600)\" points=\"\n",
       "44.8772,360.121 580.315,360.121 580.315,11.811 44.8772,11.811 \n",
       "  \" fill=\"#ffffff\" fill-opacity=\"1\"/>\n",
       "<defs>\n",
       "  <clipPath id=\"clip0602\">\n",
       "    <rect x=\"44\" y=\"11\" width=\"536\" height=\"349\"/>\n",
       "  </clipPath>\n",
       "</defs>\n",
       "<polyline clip-path=\"url(#clip0602)\" style=\"stroke:#000000; stroke-width:0.5; stroke-opacity:0.1; fill:none\" points=\"\n",
       "  88.1909,360.121 88.1909,11.811 \n",
       "  \"/>\n",
       "<polyline clip-path=\"url(#clip0602)\" style=\"stroke:#000000; stroke-width:0.5; stroke-opacity:0.1; fill:none\" points=\"\n",
       "  217.979,360.121 217.979,11.811 \n",
       "  \"/>\n",
       "<polyline clip-path=\"url(#clip0602)\" style=\"stroke:#000000; stroke-width:0.5; stroke-opacity:0.1; fill:none\" points=\"\n",
       "  347.766,360.121 347.766,11.811 \n",
       "  \"/>\n",
       "<polyline clip-path=\"url(#clip0602)\" style=\"stroke:#000000; stroke-width:0.5; stroke-opacity:0.1; fill:none\" points=\"\n",
       "  477.554,360.121 477.554,11.811 \n",
       "  \"/>\n",
       "<polyline clip-path=\"url(#clip0602)\" style=\"stroke:#000000; stroke-width:0.5; stroke-opacity:0.1; fill:none\" points=\"\n",
       "  44.8772,304.883 580.315,304.883 \n",
       "  \"/>\n",
       "<polyline clip-path=\"url(#clip0602)\" style=\"stroke:#000000; stroke-width:0.5; stroke-opacity:0.1; fill:none\" points=\"\n",
       "  44.8772,242.832 580.315,242.832 \n",
       "  \"/>\n",
       "<polyline clip-path=\"url(#clip0602)\" style=\"stroke:#000000; stroke-width:0.5; stroke-opacity:0.1; fill:none\" points=\"\n",
       "  44.8772,180.782 580.315,180.782 \n",
       "  \"/>\n",
       "<polyline clip-path=\"url(#clip0602)\" style=\"stroke:#000000; stroke-width:0.5; stroke-opacity:0.1; fill:none\" points=\"\n",
       "  44.8772,118.731 580.315,118.731 \n",
       "  \"/>\n",
       "<polyline clip-path=\"url(#clip0602)\" style=\"stroke:#000000; stroke-width:0.5; stroke-opacity:0.1; fill:none\" points=\"\n",
       "  44.8772,56.681 580.315,56.681 \n",
       "  \"/>\n",
       "<polyline clip-path=\"url(#clip0600)\" style=\"stroke:#000000; stroke-width:1; stroke-opacity:1; fill:none\" points=\"\n",
       "  44.8772,360.121 580.315,360.121 \n",
       "  \"/>\n",
       "<polyline clip-path=\"url(#clip0600)\" style=\"stroke:#000000; stroke-width:1; stroke-opacity:1; fill:none\" points=\"\n",
       "  44.8772,360.121 44.8772,11.811 \n",
       "  \"/>\n",
       "<polyline clip-path=\"url(#clip0600)\" style=\"stroke:#000000; stroke-width:1; stroke-opacity:1; fill:none\" points=\"\n",
       "  88.1909,360.121 88.1909,354.896 \n",
       "  \"/>\n",
       "<polyline clip-path=\"url(#clip0600)\" style=\"stroke:#000000; stroke-width:1; stroke-opacity:1; fill:none\" points=\"\n",
       "  217.979,360.121 217.979,354.896 \n",
       "  \"/>\n",
       "<polyline clip-path=\"url(#clip0600)\" style=\"stroke:#000000; stroke-width:1; stroke-opacity:1; fill:none\" points=\"\n",
       "  347.766,360.121 347.766,354.896 \n",
       "  \"/>\n",
       "<polyline clip-path=\"url(#clip0600)\" style=\"stroke:#000000; stroke-width:1; stroke-opacity:1; fill:none\" points=\"\n",
       "  477.554,360.121 477.554,354.896 \n",
       "  \"/>\n",
       "<polyline clip-path=\"url(#clip0600)\" style=\"stroke:#000000; stroke-width:1; stroke-opacity:1; fill:none\" points=\"\n",
       "  44.8772,304.883 52.9088,304.883 \n",
       "  \"/>\n",
       "<polyline clip-path=\"url(#clip0600)\" style=\"stroke:#000000; stroke-width:1; stroke-opacity:1; fill:none\" points=\"\n",
       "  44.8772,242.832 52.9088,242.832 \n",
       "  \"/>\n",
       "<polyline clip-path=\"url(#clip0600)\" style=\"stroke:#000000; stroke-width:1; stroke-opacity:1; fill:none\" points=\"\n",
       "  44.8772,180.782 52.9088,180.782 \n",
       "  \"/>\n",
       "<polyline clip-path=\"url(#clip0600)\" style=\"stroke:#000000; stroke-width:1; stroke-opacity:1; fill:none\" points=\"\n",
       "  44.8772,118.731 52.9088,118.731 \n",
       "  \"/>\n",
       "<polyline clip-path=\"url(#clip0600)\" style=\"stroke:#000000; stroke-width:1; stroke-opacity:1; fill:none\" points=\"\n",
       "  44.8772,56.681 52.9088,56.681 \n",
       "  \"/>\n",
       "<g clip-path=\"url(#clip0600)\">\n",
       "<text style=\"fill:#000000; fill-opacity:1; font-family:Arial,Helvetica Neue,Helvetica,sans-serif; font-size:12; text-anchor:middle;\" transform=\"rotate(0, 88.1909, 373.921)\" x=\"88.1909\" y=\"373.921\">-2</text>\n",
       "</g>\n",
       "<g clip-path=\"url(#clip0600)\">\n",
       "<text style=\"fill:#000000; fill-opacity:1; font-family:Arial,Helvetica Neue,Helvetica,sans-serif; font-size:12; text-anchor:middle;\" transform=\"rotate(0, 217.979, 373.921)\" x=\"217.979\" y=\"373.921\">0</text>\n",
       "</g>\n",
       "<g clip-path=\"url(#clip0600)\">\n",
       "<text style=\"fill:#000000; fill-opacity:1; font-family:Arial,Helvetica Neue,Helvetica,sans-serif; font-size:12; text-anchor:middle;\" transform=\"rotate(0, 347.766, 373.921)\" x=\"347.766\" y=\"373.921\">2</text>\n",
       "</g>\n",
       "<g clip-path=\"url(#clip0600)\">\n",
       "<text style=\"fill:#000000; fill-opacity:1; font-family:Arial,Helvetica Neue,Helvetica,sans-serif; font-size:12; text-anchor:middle;\" transform=\"rotate(0, 477.554, 373.921)\" x=\"477.554\" y=\"373.921\">4</text>\n",
       "</g>\n",
       "<g clip-path=\"url(#clip0600)\">\n",
       "<text style=\"fill:#000000; fill-opacity:1; font-family:Arial,Helvetica Neue,Helvetica,sans-serif; font-size:12; text-anchor:end;\" transform=\"rotate(0, 38.8772, 309.383)\" x=\"38.8772\" y=\"309.383\">3</text>\n",
       "</g>\n",
       "<g clip-path=\"url(#clip0600)\">\n",
       "<text style=\"fill:#000000; fill-opacity:1; font-family:Arial,Helvetica Neue,Helvetica,sans-serif; font-size:12; text-anchor:end;\" transform=\"rotate(0, 38.8772, 247.332)\" x=\"38.8772\" y=\"247.332\">6</text>\n",
       "</g>\n",
       "<g clip-path=\"url(#clip0600)\">\n",
       "<text style=\"fill:#000000; fill-opacity:1; font-family:Arial,Helvetica Neue,Helvetica,sans-serif; font-size:12; text-anchor:end;\" transform=\"rotate(0, 38.8772, 185.282)\" x=\"38.8772\" y=\"185.282\">9</text>\n",
       "</g>\n",
       "<g clip-path=\"url(#clip0600)\">\n",
       "<text style=\"fill:#000000; fill-opacity:1; font-family:Arial,Helvetica Neue,Helvetica,sans-serif; font-size:12; text-anchor:end;\" transform=\"rotate(0, 38.8772, 123.231)\" x=\"38.8772\" y=\"123.231\">12</text>\n",
       "</g>\n",
       "<g clip-path=\"url(#clip0600)\">\n",
       "<text style=\"fill:#000000; fill-opacity:1; font-family:Arial,Helvetica Neue,Helvetica,sans-serif; font-size:12; text-anchor:end;\" transform=\"rotate(0, 38.8772, 61.181)\" x=\"38.8772\" y=\"61.181\">15</text>\n",
       "</g>\n",
       "<g clip-path=\"url(#clip0600)\">\n",
       "<text style=\"fill:#000000; fill-opacity:1; font-family:Arial,Helvetica Neue,Helvetica,sans-serif; font-size:16; text-anchor:middle;\" transform=\"rotate(0, 312.596, 397.6)\" x=\"312.596\" y=\"397.6\">x</text>\n",
       "</g>\n",
       "<g clip-path=\"url(#clip0600)\">\n",
       "<text style=\"fill:#000000; fill-opacity:1; font-family:Arial,Helvetica Neue,Helvetica,sans-serif; font-size:16; text-anchor:middle;\" transform=\"rotate(-90, 14.4, 185.966)\" x=\"14.4\" y=\"185.966\">y</text>\n",
       "</g>\n",
       "<line clip-path=\"url(#clip0602)\" x1=\"162.755\" y1=\"235.336\" x2=\"162.755\" y2=\"240.336\" style=\"stroke:#000000; stroke-opacity:1\"/>\n",
       "<line clip-path=\"url(#clip0602)\" x1=\"162.755\" y1=\"235.336\" x2=\"157.755\" y2=\"235.336\" style=\"stroke:#000000; stroke-opacity:1\"/>\n",
       "<line clip-path=\"url(#clip0602)\" x1=\"162.755\" y1=\"235.336\" x2=\"162.755\" y2=\"230.336\" style=\"stroke:#000000; stroke-opacity:1\"/>\n",
       "<line clip-path=\"url(#clip0602)\" x1=\"162.755\" y1=\"235.336\" x2=\"167.755\" y2=\"235.336\" style=\"stroke:#000000; stroke-opacity:1\"/>\n",
       "<line clip-path=\"url(#clip0602)\" x1=\"162.755\" y1=\"235.336\" x2=\"162.755\" y2=\"239.336\" style=\"stroke:#000000; stroke-opacity:1\"/>\n",
       "<line clip-path=\"url(#clip0602)\" x1=\"162.755\" y1=\"235.336\" x2=\"158.755\" y2=\"235.336\" style=\"stroke:#000000; stroke-opacity:1\"/>\n",
       "<line clip-path=\"url(#clip0602)\" x1=\"162.755\" y1=\"235.336\" x2=\"162.755\" y2=\"231.336\" style=\"stroke:#000000; stroke-opacity:1\"/>\n",
       "<line clip-path=\"url(#clip0602)\" x1=\"162.755\" y1=\"235.336\" x2=\"166.755\" y2=\"235.336\" style=\"stroke:#000000; stroke-opacity:1\"/>\n",
       "<line clip-path=\"url(#clip0602)\" x1=\"226.353\" y1=\"294.066\" x2=\"226.353\" y2=\"299.066\" style=\"stroke:#000000; stroke-opacity:1\"/>\n",
       "<line clip-path=\"url(#clip0602)\" x1=\"226.353\" y1=\"294.066\" x2=\"221.353\" y2=\"294.066\" style=\"stroke:#000000; stroke-opacity:1\"/>\n",
       "<line clip-path=\"url(#clip0602)\" x1=\"226.353\" y1=\"294.066\" x2=\"226.353\" y2=\"289.066\" style=\"stroke:#000000; stroke-opacity:1\"/>\n",
       "<line clip-path=\"url(#clip0602)\" x1=\"226.353\" y1=\"294.066\" x2=\"231.353\" y2=\"294.066\" style=\"stroke:#000000; stroke-opacity:1\"/>\n",
       "<line clip-path=\"url(#clip0602)\" x1=\"226.353\" y1=\"294.066\" x2=\"226.353\" y2=\"298.066\" style=\"stroke:#000000; stroke-opacity:1\"/>\n",
       "<line clip-path=\"url(#clip0602)\" x1=\"226.353\" y1=\"294.066\" x2=\"222.353\" y2=\"294.066\" style=\"stroke:#000000; stroke-opacity:1\"/>\n",
       "<line clip-path=\"url(#clip0602)\" x1=\"226.353\" y1=\"294.066\" x2=\"226.353\" y2=\"290.066\" style=\"stroke:#000000; stroke-opacity:1\"/>\n",
       "<line clip-path=\"url(#clip0602)\" x1=\"226.353\" y1=\"294.066\" x2=\"230.353\" y2=\"294.066\" style=\"stroke:#000000; stroke-opacity:1\"/>\n",
       "<line clip-path=\"url(#clip0602)\" x1=\"447.884\" y1=\"265.685\" x2=\"447.884\" y2=\"270.685\" style=\"stroke:#000000; stroke-opacity:1\"/>\n",
       "<line clip-path=\"url(#clip0602)\" x1=\"447.884\" y1=\"265.685\" x2=\"442.884\" y2=\"265.685\" style=\"stroke:#000000; stroke-opacity:1\"/>\n",
       "<line clip-path=\"url(#clip0602)\" x1=\"447.884\" y1=\"265.685\" x2=\"447.884\" y2=\"260.685\" style=\"stroke:#000000; stroke-opacity:1\"/>\n",
       "<line clip-path=\"url(#clip0602)\" x1=\"447.884\" y1=\"265.685\" x2=\"452.884\" y2=\"265.685\" style=\"stroke:#000000; stroke-opacity:1\"/>\n",
       "<line clip-path=\"url(#clip0602)\" x1=\"447.884\" y1=\"265.685\" x2=\"447.884\" y2=\"269.685\" style=\"stroke:#000000; stroke-opacity:1\"/>\n",
       "<line clip-path=\"url(#clip0602)\" x1=\"447.884\" y1=\"265.685\" x2=\"443.884\" y2=\"265.685\" style=\"stroke:#000000; stroke-opacity:1\"/>\n",
       "<line clip-path=\"url(#clip0602)\" x1=\"447.884\" y1=\"265.685\" x2=\"447.884\" y2=\"261.685\" style=\"stroke:#000000; stroke-opacity:1\"/>\n",
       "<line clip-path=\"url(#clip0602)\" x1=\"447.884\" y1=\"265.685\" x2=\"451.884\" y2=\"265.685\" style=\"stroke:#000000; stroke-opacity:1\"/>\n",
       "<line clip-path=\"url(#clip0602)\" x1=\"439.367\" y1=\"212.351\" x2=\"439.367\" y2=\"217.351\" style=\"stroke:#000000; stroke-opacity:1\"/>\n",
       "<line clip-path=\"url(#clip0602)\" x1=\"439.367\" y1=\"212.351\" x2=\"434.367\" y2=\"212.351\" style=\"stroke:#000000; stroke-opacity:1\"/>\n",
       "<line clip-path=\"url(#clip0602)\" x1=\"439.367\" y1=\"212.351\" x2=\"439.367\" y2=\"207.351\" style=\"stroke:#000000; stroke-opacity:1\"/>\n",
       "<line clip-path=\"url(#clip0602)\" x1=\"439.367\" y1=\"212.351\" x2=\"444.367\" y2=\"212.351\" style=\"stroke:#000000; stroke-opacity:1\"/>\n",
       "<line clip-path=\"url(#clip0602)\" x1=\"439.367\" y1=\"212.351\" x2=\"439.367\" y2=\"216.351\" style=\"stroke:#000000; stroke-opacity:1\"/>\n",
       "<line clip-path=\"url(#clip0602)\" x1=\"439.367\" y1=\"212.351\" x2=\"435.367\" y2=\"212.351\" style=\"stroke:#000000; stroke-opacity:1\"/>\n",
       "<line clip-path=\"url(#clip0602)\" x1=\"439.367\" y1=\"212.351\" x2=\"439.367\" y2=\"208.351\" style=\"stroke:#000000; stroke-opacity:1\"/>\n",
       "<line clip-path=\"url(#clip0602)\" x1=\"439.367\" y1=\"212.351\" x2=\"443.367\" y2=\"212.351\" style=\"stroke:#000000; stroke-opacity:1\"/>\n",
       "<line clip-path=\"url(#clip0602)\" x1=\"133.877\" y1=\"347.942\" x2=\"133.877\" y2=\"352.942\" style=\"stroke:#000000; stroke-opacity:1\"/>\n",
       "<line clip-path=\"url(#clip0602)\" x1=\"133.877\" y1=\"347.942\" x2=\"128.877\" y2=\"347.942\" style=\"stroke:#000000; stroke-opacity:1\"/>\n",
       "<line clip-path=\"url(#clip0602)\" x1=\"133.877\" y1=\"347.942\" x2=\"133.877\" y2=\"342.942\" style=\"stroke:#000000; stroke-opacity:1\"/>\n",
       "<line clip-path=\"url(#clip0602)\" x1=\"133.877\" y1=\"347.942\" x2=\"138.877\" y2=\"347.942\" style=\"stroke:#000000; stroke-opacity:1\"/>\n",
       "<line clip-path=\"url(#clip0602)\" x1=\"133.877\" y1=\"347.942\" x2=\"133.877\" y2=\"351.942\" style=\"stroke:#000000; stroke-opacity:1\"/>\n",
       "<line clip-path=\"url(#clip0602)\" x1=\"133.877\" y1=\"347.942\" x2=\"129.877\" y2=\"347.942\" style=\"stroke:#000000; stroke-opacity:1\"/>\n",
       "<line clip-path=\"url(#clip0602)\" x1=\"133.877\" y1=\"347.942\" x2=\"133.877\" y2=\"343.942\" style=\"stroke:#000000; stroke-opacity:1\"/>\n",
       "<line clip-path=\"url(#clip0602)\" x1=\"133.877\" y1=\"347.942\" x2=\"137.877\" y2=\"347.942\" style=\"stroke:#000000; stroke-opacity:1\"/>\n",
       "<line clip-path=\"url(#clip0602)\" x1=\"540.015\" y1=\"173.683\" x2=\"540.015\" y2=\"178.683\" style=\"stroke:#000000; stroke-opacity:1\"/>\n",
       "<line clip-path=\"url(#clip0602)\" x1=\"540.015\" y1=\"173.683\" x2=\"535.015\" y2=\"173.683\" style=\"stroke:#000000; stroke-opacity:1\"/>\n",
       "<line clip-path=\"url(#clip0602)\" x1=\"540.015\" y1=\"173.683\" x2=\"540.015\" y2=\"168.683\" style=\"stroke:#000000; stroke-opacity:1\"/>\n",
       "<line clip-path=\"url(#clip0602)\" x1=\"540.015\" y1=\"173.683\" x2=\"545.015\" y2=\"173.683\" style=\"stroke:#000000; stroke-opacity:1\"/>\n",
       "<line clip-path=\"url(#clip0602)\" x1=\"540.015\" y1=\"173.683\" x2=\"540.015\" y2=\"177.683\" style=\"stroke:#000000; stroke-opacity:1\"/>\n",
       "<line clip-path=\"url(#clip0602)\" x1=\"540.015\" y1=\"173.683\" x2=\"536.015\" y2=\"173.683\" style=\"stroke:#000000; stroke-opacity:1\"/>\n",
       "<line clip-path=\"url(#clip0602)\" x1=\"540.015\" y1=\"173.683\" x2=\"540.015\" y2=\"169.683\" style=\"stroke:#000000; stroke-opacity:1\"/>\n",
       "<line clip-path=\"url(#clip0602)\" x1=\"540.015\" y1=\"173.683\" x2=\"544.015\" y2=\"173.683\" style=\"stroke:#000000; stroke-opacity:1\"/>\n",
       "<line clip-path=\"url(#clip0602)\" x1=\"94.1499\" y1=\"246.121\" x2=\"94.1499\" y2=\"251.121\" style=\"stroke:#000000; stroke-opacity:1\"/>\n",
       "<line clip-path=\"url(#clip0602)\" x1=\"94.1499\" y1=\"246.121\" x2=\"89.1499\" y2=\"246.121\" style=\"stroke:#000000; stroke-opacity:1\"/>\n",
       "<line clip-path=\"url(#clip0602)\" x1=\"94.1499\" y1=\"246.121\" x2=\"94.1499\" y2=\"241.121\" style=\"stroke:#000000; stroke-opacity:1\"/>\n",
       "<line clip-path=\"url(#clip0602)\" x1=\"94.1499\" y1=\"246.121\" x2=\"99.1499\" y2=\"246.121\" style=\"stroke:#000000; stroke-opacity:1\"/>\n",
       "<line clip-path=\"url(#clip0602)\" x1=\"94.1499\" y1=\"246.121\" x2=\"94.1499\" y2=\"250.121\" style=\"stroke:#000000; stroke-opacity:1\"/>\n",
       "<line clip-path=\"url(#clip0602)\" x1=\"94.1499\" y1=\"246.121\" x2=\"90.1499\" y2=\"246.121\" style=\"stroke:#000000; stroke-opacity:1\"/>\n",
       "<line clip-path=\"url(#clip0602)\" x1=\"94.1499\" y1=\"246.121\" x2=\"94.1499\" y2=\"242.121\" style=\"stroke:#000000; stroke-opacity:1\"/>\n",
       "<line clip-path=\"url(#clip0602)\" x1=\"94.1499\" y1=\"246.121\" x2=\"98.1499\" y2=\"246.121\" style=\"stroke:#000000; stroke-opacity:1\"/>\n",
       "<line clip-path=\"url(#clip0602)\" x1=\"89.8578\" y1=\"350.263\" x2=\"89.8578\" y2=\"355.263\" style=\"stroke:#000000; stroke-opacity:1\"/>\n",
       "<line clip-path=\"url(#clip0602)\" x1=\"89.8578\" y1=\"350.263\" x2=\"84.8578\" y2=\"350.263\" style=\"stroke:#000000; stroke-opacity:1\"/>\n",
       "<line clip-path=\"url(#clip0602)\" x1=\"89.8578\" y1=\"350.263\" x2=\"89.8578\" y2=\"345.263\" style=\"stroke:#000000; stroke-opacity:1\"/>\n",
       "<line clip-path=\"url(#clip0602)\" x1=\"89.8578\" y1=\"350.263\" x2=\"94.8578\" y2=\"350.263\" style=\"stroke:#000000; stroke-opacity:1\"/>\n",
       "<line clip-path=\"url(#clip0602)\" x1=\"89.8578\" y1=\"350.263\" x2=\"89.8578\" y2=\"354.263\" style=\"stroke:#000000; stroke-opacity:1\"/>\n",
       "<line clip-path=\"url(#clip0602)\" x1=\"89.8578\" y1=\"350.263\" x2=\"85.8578\" y2=\"350.263\" style=\"stroke:#000000; stroke-opacity:1\"/>\n",
       "<line clip-path=\"url(#clip0602)\" x1=\"89.8578\" y1=\"350.263\" x2=\"89.8578\" y2=\"346.263\" style=\"stroke:#000000; stroke-opacity:1\"/>\n",
       "<line clip-path=\"url(#clip0602)\" x1=\"89.8578\" y1=\"350.263\" x2=\"93.8578\" y2=\"350.263\" style=\"stroke:#000000; stroke-opacity:1\"/>\n",
       "<line clip-path=\"url(#clip0602)\" x1=\"450.104\" y1=\"250.842\" x2=\"450.104\" y2=\"255.842\" style=\"stroke:#000000; stroke-opacity:1\"/>\n",
       "<line clip-path=\"url(#clip0602)\" x1=\"450.104\" y1=\"250.842\" x2=\"445.104\" y2=\"250.842\" style=\"stroke:#000000; stroke-opacity:1\"/>\n",
       "<line clip-path=\"url(#clip0602)\" x1=\"450.104\" y1=\"250.842\" x2=\"450.104\" y2=\"245.842\" style=\"stroke:#000000; stroke-opacity:1\"/>\n",
       "<line clip-path=\"url(#clip0602)\" x1=\"450.104\" y1=\"250.842\" x2=\"455.104\" y2=\"250.842\" style=\"stroke:#000000; stroke-opacity:1\"/>\n",
       "<line clip-path=\"url(#clip0602)\" x1=\"450.104\" y1=\"250.842\" x2=\"450.104\" y2=\"254.842\" style=\"stroke:#000000; stroke-opacity:1\"/>\n",
       "<line clip-path=\"url(#clip0602)\" x1=\"450.104\" y1=\"250.842\" x2=\"446.104\" y2=\"250.842\" style=\"stroke:#000000; stroke-opacity:1\"/>\n",
       "<line clip-path=\"url(#clip0602)\" x1=\"450.104\" y1=\"250.842\" x2=\"450.104\" y2=\"246.842\" style=\"stroke:#000000; stroke-opacity:1\"/>\n",
       "<line clip-path=\"url(#clip0602)\" x1=\"450.104\" y1=\"250.842\" x2=\"454.104\" y2=\"250.842\" style=\"stroke:#000000; stroke-opacity:1\"/>\n",
       "<line clip-path=\"url(#clip0602)\" x1=\"78.5833\" y1=\"218.969\" x2=\"78.5833\" y2=\"223.969\" style=\"stroke:#000000; stroke-opacity:1\"/>\n",
       "<line clip-path=\"url(#clip0602)\" x1=\"78.5833\" y1=\"218.969\" x2=\"73.5833\" y2=\"218.969\" style=\"stroke:#000000; stroke-opacity:1\"/>\n",
       "<line clip-path=\"url(#clip0602)\" x1=\"78.5833\" y1=\"218.969\" x2=\"78.5833\" y2=\"213.969\" style=\"stroke:#000000; stroke-opacity:1\"/>\n",
       "<line clip-path=\"url(#clip0602)\" x1=\"78.5833\" y1=\"218.969\" x2=\"83.5833\" y2=\"218.969\" style=\"stroke:#000000; stroke-opacity:1\"/>\n",
       "<line clip-path=\"url(#clip0602)\" x1=\"78.5833\" y1=\"218.969\" x2=\"78.5833\" y2=\"222.969\" style=\"stroke:#000000; stroke-opacity:1\"/>\n",
       "<line clip-path=\"url(#clip0602)\" x1=\"78.5833\" y1=\"218.969\" x2=\"74.5833\" y2=\"218.969\" style=\"stroke:#000000; stroke-opacity:1\"/>\n",
       "<line clip-path=\"url(#clip0602)\" x1=\"78.5833\" y1=\"218.969\" x2=\"78.5833\" y2=\"214.969\" style=\"stroke:#000000; stroke-opacity:1\"/>\n",
       "<line clip-path=\"url(#clip0602)\" x1=\"78.5833\" y1=\"218.969\" x2=\"82.5833\" y2=\"218.969\" style=\"stroke:#000000; stroke-opacity:1\"/>\n",
       "<line clip-path=\"url(#clip0602)\" x1=\"385.685\" y1=\"287.524\" x2=\"385.685\" y2=\"292.524\" style=\"stroke:#000000; stroke-opacity:1\"/>\n",
       "<line clip-path=\"url(#clip0602)\" x1=\"385.685\" y1=\"287.524\" x2=\"380.685\" y2=\"287.524\" style=\"stroke:#000000; stroke-opacity:1\"/>\n",
       "<line clip-path=\"url(#clip0602)\" x1=\"385.685\" y1=\"287.524\" x2=\"385.685\" y2=\"282.524\" style=\"stroke:#000000; stroke-opacity:1\"/>\n",
       "<line clip-path=\"url(#clip0602)\" x1=\"385.685\" y1=\"287.524\" x2=\"390.685\" y2=\"287.524\" style=\"stroke:#000000; stroke-opacity:1\"/>\n",
       "<line clip-path=\"url(#clip0602)\" x1=\"385.685\" y1=\"287.524\" x2=\"385.685\" y2=\"291.524\" style=\"stroke:#000000; stroke-opacity:1\"/>\n",
       "<line clip-path=\"url(#clip0602)\" x1=\"385.685\" y1=\"287.524\" x2=\"381.685\" y2=\"287.524\" style=\"stroke:#000000; stroke-opacity:1\"/>\n",
       "<line clip-path=\"url(#clip0602)\" x1=\"385.685\" y1=\"287.524\" x2=\"385.685\" y2=\"283.524\" style=\"stroke:#000000; stroke-opacity:1\"/>\n",
       "<line clip-path=\"url(#clip0602)\" x1=\"385.685\" y1=\"287.524\" x2=\"389.685\" y2=\"287.524\" style=\"stroke:#000000; stroke-opacity:1\"/>\n",
       "<line clip-path=\"url(#clip0602)\" x1=\"152.54\" y1=\"348.101\" x2=\"152.54\" y2=\"353.101\" style=\"stroke:#000000; stroke-opacity:1\"/>\n",
       "<line clip-path=\"url(#clip0602)\" x1=\"152.54\" y1=\"348.101\" x2=\"147.54\" y2=\"348.101\" style=\"stroke:#000000; stroke-opacity:1\"/>\n",
       "<line clip-path=\"url(#clip0602)\" x1=\"152.54\" y1=\"348.101\" x2=\"152.54\" y2=\"343.101\" style=\"stroke:#000000; stroke-opacity:1\"/>\n",
       "<line clip-path=\"url(#clip0602)\" x1=\"152.54\" y1=\"348.101\" x2=\"157.54\" y2=\"348.101\" style=\"stroke:#000000; stroke-opacity:1\"/>\n",
       "<line clip-path=\"url(#clip0602)\" x1=\"152.54\" y1=\"348.101\" x2=\"152.54\" y2=\"352.101\" style=\"stroke:#000000; stroke-opacity:1\"/>\n",
       "<line clip-path=\"url(#clip0602)\" x1=\"152.54\" y1=\"348.101\" x2=\"148.54\" y2=\"348.101\" style=\"stroke:#000000; stroke-opacity:1\"/>\n",
       "<line clip-path=\"url(#clip0602)\" x1=\"152.54\" y1=\"348.101\" x2=\"152.54\" y2=\"344.101\" style=\"stroke:#000000; stroke-opacity:1\"/>\n",
       "<line clip-path=\"url(#clip0602)\" x1=\"152.54\" y1=\"348.101\" x2=\"156.54\" y2=\"348.101\" style=\"stroke:#000000; stroke-opacity:1\"/>\n",
       "<line clip-path=\"url(#clip0602)\" x1=\"506.306\" y1=\"59.2479\" x2=\"506.306\" y2=\"64.2479\" style=\"stroke:#000000; stroke-opacity:1\"/>\n",
       "<line clip-path=\"url(#clip0602)\" x1=\"506.306\" y1=\"59.2479\" x2=\"501.306\" y2=\"59.2479\" style=\"stroke:#000000; stroke-opacity:1\"/>\n",
       "<line clip-path=\"url(#clip0602)\" x1=\"506.306\" y1=\"59.2479\" x2=\"506.306\" y2=\"54.2479\" style=\"stroke:#000000; stroke-opacity:1\"/>\n",
       "<line clip-path=\"url(#clip0602)\" x1=\"506.306\" y1=\"59.2479\" x2=\"511.306\" y2=\"59.2479\" style=\"stroke:#000000; stroke-opacity:1\"/>\n",
       "<line clip-path=\"url(#clip0602)\" x1=\"506.306\" y1=\"59.2479\" x2=\"506.306\" y2=\"63.2479\" style=\"stroke:#000000; stroke-opacity:1\"/>\n",
       "<line clip-path=\"url(#clip0602)\" x1=\"506.306\" y1=\"59.2479\" x2=\"502.306\" y2=\"59.2479\" style=\"stroke:#000000; stroke-opacity:1\"/>\n",
       "<line clip-path=\"url(#clip0602)\" x1=\"506.306\" y1=\"59.2479\" x2=\"506.306\" y2=\"55.2479\" style=\"stroke:#000000; stroke-opacity:1\"/>\n",
       "<line clip-path=\"url(#clip0602)\" x1=\"506.306\" y1=\"59.2479\" x2=\"510.306\" y2=\"59.2479\" style=\"stroke:#000000; stroke-opacity:1\"/>\n",
       "<polyline clip-path=\"url(#clip0602)\" style=\"stroke:#000000; stroke-width:1; stroke-opacity:1; fill:none\" stroke-dasharray=\"8, 5\" points=\"\n",
       "  69.517,295.922 113.684,295 140.226,294.217 162.668,293.374 187.045,292.219 209.519,290.877 233.613,289.063 261.529,286.342 286.337,283.205 308.092,279.742 \n",
       "  331.81,275.011 355.67,268.986 382.049,260.438 407.149,249.944 420.197,243.366 433.246,235.881 444.23,228.784 455.215,220.872 468.625,209.967 482.036,197.514 \n",
       "  494.642,184.198 507.249,169.11 517.347,155.588 527.445,140.644 537.543,124.127 547.641,105.871 549.195,102.896 550.749,99.875 552.303,96.8068 \n",
       "  \"/>\n",
       "<polyline clip-path=\"url(#clip0602)\" style=\"stroke:#000000; stroke-width:1; stroke-opacity:1; fill:none\" points=\"\n",
       "  60.0311,283.07 106.242,282.34 134.013,281.691 157.493,280.968 182.998,279.945 206.512,278.716 231.722,277.003 260.93,274.338 286.886,271.151 309.647,267.52 \n",
       "  334.463,262.4 359.427,255.664 387.027,245.768 413.288,233.183 426.941,225.089 440.594,215.71 452.086,206.671 463.579,196.438 477.61,182.098 491.641,165.413 \n",
       "  504.831,147.252 518.021,126.313 528.587,107.254 539.152,85.8932 549.718,61.9543 560.283,35.1255 561.909,30.7184 563.535,26.2333 565.161,21.6688 \n",
       "  \"/>\n",
       "<polygon clip-path=\"url(#clip0600)\" points=\"\n",
       "62.8772,93.171 187.737,93.171 187.737,32.691 62.8772,32.691 \n",
       "  \" fill=\"#ffffff\" fill-opacity=\"1\"/>\n",
       "<polyline clip-path=\"url(#clip0600)\" style=\"stroke:#000000; stroke-width:1; stroke-opacity:1; fill:none\" points=\"\n",
       "  62.8772,93.171 187.737,93.171 187.737,32.691 62.8772,32.691 62.8772,93.171 \n",
       "  \"/>\n",
       "<line clip-path=\"url(#clip0600)\" x1=\"89.8772\" y1=\"47.811\" x2=\"89.8772\" y2=\"54.811\" style=\"stroke:#000000; stroke-opacity:1\"/>\n",
       "<line clip-path=\"url(#clip0600)\" x1=\"89.8772\" y1=\"47.811\" x2=\"82.8772\" y2=\"47.811\" style=\"stroke:#000000; stroke-opacity:1\"/>\n",
       "<line clip-path=\"url(#clip0600)\" x1=\"89.8772\" y1=\"47.811\" x2=\"89.8772\" y2=\"40.811\" style=\"stroke:#000000; stroke-opacity:1\"/>\n",
       "<line clip-path=\"url(#clip0600)\" x1=\"89.8772\" y1=\"47.811\" x2=\"96.8772\" y2=\"47.811\" style=\"stroke:#000000; stroke-opacity:1\"/>\n",
       "<line clip-path=\"url(#clip0600)\" x1=\"89.8772\" y1=\"47.811\" x2=\"89.8772\" y2=\"53.811\" style=\"stroke:#000000; stroke-opacity:1\"/>\n",
       "<line clip-path=\"url(#clip0600)\" x1=\"89.8772\" y1=\"47.811\" x2=\"83.8772\" y2=\"47.811\" style=\"stroke:#000000; stroke-opacity:1\"/>\n",
       "<line clip-path=\"url(#clip0600)\" x1=\"89.8772\" y1=\"47.811\" x2=\"89.8772\" y2=\"41.811\" style=\"stroke:#000000; stroke-opacity:1\"/>\n",
       "<line clip-path=\"url(#clip0600)\" x1=\"89.8772\" y1=\"47.811\" x2=\"95.8772\" y2=\"47.811\" style=\"stroke:#000000; stroke-opacity:1\"/>\n",
       "<g clip-path=\"url(#clip0600)\">\n",
       "<text style=\"fill:#000000; fill-opacity:1; font-family:Arial,Helvetica Neue,Helvetica,sans-serif; font-size:12; text-anchor:start;\" transform=\"rotate(0, 110.877, 52.311)\" x=\"110.877\" y=\"52.311\">data</text>\n",
       "</g>\n",
       "<polyline clip-path=\"url(#clip0600)\" style=\"stroke:#000000; stroke-width:1; stroke-opacity:1; fill:none\" stroke-dasharray=\"8, 5\" points=\"\n",
       "  68.8772,62.931 104.877,62.931 \n",
       "  \"/>\n",
       "<g clip-path=\"url(#clip0600)\">\n",
       "<text style=\"fill:#000000; fill-opacity:1; font-family:Arial,Helvetica Neue,Helvetica,sans-serif; font-size:12; text-anchor:start;\" transform=\"rotate(0, 110.877, 67.431)\" x=\"110.877\" y=\"67.431\">model (fit)</text>\n",
       "</g>\n",
       "<polyline clip-path=\"url(#clip0600)\" style=\"stroke:#000000; stroke-width:1; stroke-opacity:1; fill:none\" points=\"\n",
       "  68.8772,78.051 104.877,78.051 \n",
       "  \"/>\n",
       "<g clip-path=\"url(#clip0600)\">\n",
       "<text style=\"fill:#000000; fill-opacity:1; font-family:Arial,Helvetica Neue,Helvetica,sans-serif; font-size:12; text-anchor:start;\" transform=\"rotate(0, 110.877, 82.551)\" x=\"110.877\" y=\"82.551\">model (true)</text>\n",
       "</g>\n",
       "</svg>\n"
      ]
     },
     "execution_count": 114,
     "metadata": {},
     "output_type": "execute_result"
    }
   ],
   "source": [
    "gr()\n",
    "scatter(xdata, ydata, m = :cross, labels = \"data\", xlabel = \"x\", ylabel = \"y\", c = :black)\n",
    "plot!(x->exp_model(x, res.param), lt = :line, legend = :topleft, labels = \"model (fit)\", c = :black, ls = :dash)\n",
    "plot!(x->exp_model(x, p_exp), lt = :line, legend = :topleft, labels = \"model (true)\", c = :black)"
   ]
  },
  {
   "cell_type": "code",
   "execution_count": null,
   "metadata": {
    "collapsed": true
   },
   "outputs": [],
   "source": []
  },
  {
   "cell_type": "code",
   "execution_count": null,
   "metadata": {
    "collapsed": true
   },
   "outputs": [],
   "source": []
  }
 ],
 "metadata": {
  "kernelspec": {
   "display_name": "Julia 0.6.0",
   "language": "julia",
   "name": "julia-0.6"
  },
  "language_info": {
   "file_extension": ".jl",
   "mimetype": "application/julia",
   "name": "julia",
   "version": "0.6.0"
  },
  "widgets": {
   "state": {},
   "version": "1.1.2"
  }
 },
 "nbformat": 4,
 "nbformat_minor": 0
}
